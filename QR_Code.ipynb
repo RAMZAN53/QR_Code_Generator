{
  "nbformat": 4,
  "nbformat_minor": 0,
  "metadata": {
    "colab": {
      "provenance": []
    },
    "kernelspec": {
      "name": "python3",
      "display_name": "Python 3"
    },
    "language_info": {
      "name": "python"
    }
  },
  "cells": [
    {
      "cell_type": "code",
      "source": [
        "!pip install pyqrcode\n",
        "!pip install pypng\n",
        "!pip install gradio"
      ],
      "metadata": {
        "id": "7KLH69cGByy6"
      },
      "execution_count": null,
      "outputs": []
    },
    {
      "cell_type": "code",
      "execution_count": 10,
      "metadata": {
        "id": "6B2lQo2FBhnF"
      },
      "outputs": [],
      "source": [
        "import pyqrcode\n",
        "from PIL import Image"
      ]
    },
    {
      "cell_type": "code",
      "source": [
        "link=input(\"Enter anything to generate QR : \")\n",
        "qr_code=pyqrcode.create(link)\n",
        "\n",
        "qr_code.png(\"QRCode.png\",scale=10)\n",
        "Image.open(\"QRCode.png\")"
      ],
      "metadata": {
        "colab": {
          "base_uri": "https://localhost:8080/",
          "height": 324
        },
        "id": "U_CcxdzzBqq9",
        "outputId": "62f6fd42-8267-4a6f-d554-f1fa1138edb2"
      },
      "execution_count": 11,
      "outputs": [
        {
          "name": "stdout",
          "output_type": "stream",
          "text": [
            "Enter anything to generate QR : 098765\n"
          ]
        },
        {
          "output_type": "execute_result",
          "data": {
            "text/plain": [
              "<PIL.PngImagePlugin.PngImageFile image mode=1 size=290x290>"
            ],
            "image/png": "[encoded data removed]",
            "image/jpeg": "[encoded data removed]"
          },
          "metadata": {},
          "execution_count": 11
        }
      ]
    },
    {
      "cell_type": "code",
      "source": [
        "import gradio as gr\n",
        "import pyqrcode\n",
        "from PIL import Image\n",
        "\n",
        "def generate_qr(text):\n",
        "    qr_code = pyqrcode.create(text)\n",
        "    qr_code.png(\"QRCode.png\", scale=10)\n",
        "    return \"QRCode.png\"\n",
        "\n",
        "iface = gr.Interface(\n",
        "    fn=generate_qr,\n",
        "    inputs=gr.Textbox(label=\"Enter text or link to generate QR Code\"),\n",
        "    outputs=gr.Image(type=\"filepath\", label=\"Generated QR Code\"), # Changed type to \"filepath\"\n",
        "    title=\"QR Code Generator\",\n",
        "    description=\"Enter any text or link to generate a QR Code.\"\n",
        ")\n",
        "\n",
        "iface.launch()"
      ],
      "metadata": {
        "colab": {
          "base_uri": "https://localhost:8080/",
          "height": 646
        },
        "id": "SY0jnT-bC4Nd",
        "outputId": "eeb05836-60f9-4a81-f275-7f954637b6c4"
      },
      "execution_count": 13,
      "outputs": [
        {
          "output_type": "stream",
          "name": "stdout",
          "text": [
            "Running Gradio in a Colab notebook requires sharing enabled. Automatically setting `share=True` (you can turn this off by setting `share=False` in `launch()` explicitly).\n",
            "\n",
            "Colab notebook detected. To show errors in colab notebook, set debug=True in launch()\n",
            "* Running on public URL: https://308f030e23eb29107f.gradio.live\n",
            "\n",
            "This share link expires in 72 hours. For free permanent hosting and GPU upgrades, run `gradio deploy` from the terminal in the working directory to deploy to Hugging Face Spaces (https://huggingface.co/spaces)\n"
          ]
        },
        {
          "output_type": "display_data",
          "data": {
            "text/plain": [
              "<IPython.core.display.HTML object>"
            ],
            "text/html": [
              "<div><iframe src=\"https://308f030e23eb29107f.gradio.live\" width=\"100%\" height=\"500\" allow=\"autoplay; camera; microphone; clipboard-read; clipboard-write;\" frameborder=\"0\" allowfullscreen></iframe></div>"
            ]
          },
          "metadata": {}
        },
        {
          "output_type": "execute_result",
          "data": {
            "text/plain": []
          },
          "metadata": {},
          "execution_count": 13
        }
      ]
    }
  ]
}